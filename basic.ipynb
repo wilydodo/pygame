{
 "cells": [
  {
   "cell_type": "code",
   "execution_count": 1,
   "metadata": {},
   "outputs": [
    {
     "name": "stdout",
     "output_type": "stream",
     "text": [
      "Collecting pygame\n",
      "  Downloading pygame-2.5.0-cp311-cp311-win_amd64.whl (10.5 MB)\n",
      "                                              0.0/10.5 MB ? eta -:--:--\n",
      "     -                                        0.4/10.5 MB 8.5 MB/s eta 0:00:02\n",
      "     ----                                     1.1/10.5 MB 12.1 MB/s eta 0:00:01\n",
      "     --------                                 2.1/10.5 MB 15.1 MB/s eta 0:00:01\n",
      "     ------------                             3.4/10.5 MB 17.8 MB/s eta 0:00:01\n",
      "     -------------------                      5.1/10.5 MB 21.7 MB/s eta 0:00:01\n",
      "     ----------------------------             7.4/10.5 MB 26.3 MB/s eta 0:00:01\n",
      "     -------------------------------------    9.9/10.5 MB 30.1 MB/s eta 0:00:01\n",
      "     --------------------------------------- 10.5/10.5 MB 29.7 MB/s eta 0:00:00\n",
      "Installing collected packages: pygame\n",
      "Successfully installed pygame-2.5.0\n",
      "Note: you may need to restart the kernel to use updated packages.\n"
     ]
    },
    {
     "name": "stderr",
     "output_type": "stream",
     "text": [
      "\n",
      "[notice] A new release of pip is available: 23.1.2 -> 23.2.1\n",
      "[notice] To update, run: python.exe -m pip install --upgrade pip\n"
     ]
    }
   ],
   "source": [
    "%pip install pygame"
   ]
  },
  {
   "cell_type": "code",
   "execution_count": 3,
   "metadata": {},
   "outputs": [],
   "source": [
    "#양수+1,음수+1\n",
    "def ad1(num=int,add=int):\n",
    "    \"\"\"'num'이 양수면 'add'를 더합니다\n",
    "       'num'이 음수면 add를 뺍니다\"\"\"\n",
    "    if num == abs(num):\n",
    "        return num+add\n",
    "    else:\n",
    "        return num-add"
   ]
  },
  {
   "cell_type": "code",
   "execution_count": 4,
   "metadata": {},
   "outputs": [
    {
     "name": "stdout",
     "output_type": "stream",
     "text": [
      "11\n",
      "-11\n"
     ]
    }
   ],
   "source": [
    "print(ad1(10,1))\n",
    "print(ad1(-10,1))"
   ]
  }
 ],
 "metadata": {
  "kernelspec": {
   "display_name": "Python 3",
   "language": "python",
   "name": "python3"
  },
  "language_info": {
   "codemirror_mode": {
    "name": "ipython",
    "version": 3
   },
   "file_extension": ".py",
   "mimetype": "text/x-python",
   "name": "python",
   "nbconvert_exporter": "python",
   "pygments_lexer": "ipython3",
   "version": "3.11.4"
  },
  "orig_nbformat": 4
 },
 "nbformat": 4,
 "nbformat_minor": 2
}
