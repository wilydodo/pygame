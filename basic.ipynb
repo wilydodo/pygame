{
 "cells": [
  {
   "cell_type": "code",
   "execution_count": 1,
   "metadata": {},
   "outputs": [
    {
     "name": "stdout",
     "output_type": "stream",
     "text": [
      "Collecting pygame\n",
      "  Downloading pygame-2.5.1-cp39-cp39-win_amd64.whl (10.6 MB)\n",
      "Installing collected packages: pygame\n",
      "Successfully installed pygame-2.5.1\n",
      "Note: you may need to restart the kernel to use updated packages.\n"
     ]
    },
    {
     "name": "stderr",
     "output_type": "stream",
     "text": [
      "WARNING: You are using pip version 21.1.3; however, version 23.2.1 is available.\n",
      "You should consider upgrading via the 'c:\\Users\\User\\AppData\\Local\\Programs\\Python\\Python39\\python.exe -m pip install --upgrade pip' command.\n"
     ]
    }
   ],
   "source": [
    "%pip install pygame"
   ]
  },
  {
   "cell_type": "code",
   "execution_count": 3,
   "metadata": {},
   "outputs": [],
   "source": [
    "import random"
   ]
  },
  {
   "cell_type": "code",
   "execution_count": 71,
   "metadata": {},
   "outputs": [
    {
     "name": "stdout",
     "output_type": "stream",
     "text": [
      "(100, 100, 200)\n"
     ]
    }
   ],
   "source": [
    "BLACK = (0,0,0,)\n",
    "WHITE = (220,220,220)\n",
    "ORANGE = (250,150,0)\n",
    "RED = (200,20,20)\n",
    "GRAY = (100, 100, 100)\n",
    "PURPLE = (100,100,200)\n",
    "BLUE = (177,235,255)\n",
    "GREEN = (153,255,69)\n",
    "YELLOW = (255,242,62)\n",
    "SC = WHITE\n",
    "color = (YELLOW,GREEN,BLUE,PURPLE,WHITE)\n",
    "\n",
    "def select(a,color):\n",
    "    selected = random.choice(color)\n",
    "    while a==selected:\n",
    "        selected = random.choice(color)\n",
    "    return selected\n",
    "print(select(SC,color))\n"
   ]
  },
  {
   "cell_type": "code",
   "execution_count": 2,
   "metadata": {},
   "outputs": [],
   "source": [
    "#양수+1,음수+1\n",
    "def ad1(num=int,add=int):\n",
    "    \"\"\"'num'이 양수면 'add'를 더합니다\n",
    "       'num'이 음수면 add를 뺍니다\"\"\"\n",
    "    if num == abs(num):\n",
    "        return num+add\n",
    "    else:\n",
    "        return num-add"
   ]
  },
  {
   "cell_type": "code",
   "execution_count": 2,
   "metadata": {},
   "outputs": [
    {
     "name": "stdout",
     "output_type": "stream",
     "text": [
      "11\n",
      "-11\n"
     ]
    }
   ],
   "source": [
    "print(ad1(10,1))\n",
    "print(ad1(-10,1))"
   ]
  }
 ],
 "metadata": {
  "kernelspec": {
   "display_name": "Python 3",
   "language": "python",
   "name": "python3"
  },
  "language_info": {
   "codemirror_mode": {
    "name": "ipython",
    "version": 3
   },
   "file_extension": ".py",
   "mimetype": "text/x-python",
   "name": "python",
   "nbconvert_exporter": "python",
   "pygments_lexer": "ipython3",
   "version": "3.9.6"
  },
  "orig_nbformat": 4
 },
 "nbformat": 4,
 "nbformat_minor": 2
}
